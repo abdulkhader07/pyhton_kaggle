{
 "cells": [
  {
   "cell_type": "code",
   "execution_count": 2,
   "id": "03633d45",
   "metadata": {},
   "outputs": [
    {
     "name": "stdout",
     "output_type": "stream",
     "text": [
      "False\n",
      "True\n"
     ]
    }
   ],
   "source": [
    "var_one = 1\n",
    "var_two = 2\n",
    "print(var_one < 1)\n",
    "print(var_two >= var_one)"
   ]
  },
  {
   "cell_type": "code",
   "execution_count": null,
   "id": "8d166cde",
   "metadata": {},
   "outputs": [],
   "source": [
    "#if"
   ]
  },
  {
   "cell_type": "code",
   "execution_count": 8,
   "id": "3833ac6b",
   "metadata": {},
   "outputs": [],
   "source": [
    "def eval_temp(temp):\n",
    "    \n",
    "#set an intitial message\n",
    "    message = \"Normal fever\"\n",
    "#checking the temp in celsius\n",
    "    if temp > 38:\n",
    "        message = \"Fever!\"\n",
    "    return message"
   ]
  },
  {
   "cell_type": "code",
   "execution_count": 10,
   "id": "90fb4bed",
   "metadata": {},
   "outputs": [
    {
     "name": "stdout",
     "output_type": "stream",
     "text": [
      "Normal fever\n"
     ]
    }
   ],
   "source": [
    "print(eval_temp(38))"
   ]
  },
  {
   "cell_type": "code",
   "execution_count": 11,
   "id": "6ce4b0f7",
   "metadata": {},
   "outputs": [
    {
     "name": "stdout",
     "output_type": "stream",
     "text": [
      "Fever!\n"
     ]
    }
   ],
   "source": [
    "print(eval_temp(39))"
   ]
  },
  {
   "cell_type": "code",
   "execution_count": null,
   "id": "1f8308bb",
   "metadata": {},
   "outputs": [],
   "source": [
    "#if - else"
   ]
  },
  {
   "cell_type": "code",
   "execution_count": 18,
   "id": "459e2681",
   "metadata": {},
   "outputs": [],
   "source": [
    "def eval_temp_with_else(temp):\n",
    "    if temp > 38:\n",
    "        message = \"Fever!\"\n",
    "    else:\n",
    "        message = \"Normal temperature.\"\n",
    "    return message"
   ]
  },
  {
   "cell_type": "code",
   "execution_count": 19,
   "id": "a5ca3329",
   "metadata": {},
   "outputs": [
    {
     "name": "stdout",
     "output_type": "stream",
     "text": [
      "Normal temperature.\n"
     ]
    }
   ],
   "source": [
    "print(eval_temp_with_else(37))"
   ]
  },
  {
   "cell_type": "code",
   "execution_count": 20,
   "id": "9e7b4a95",
   "metadata": {},
   "outputs": [
    {
     "name": "stdout",
     "output_type": "stream",
     "text": [
      "Fever!\n"
     ]
    }
   ],
   "source": [
    "print(eval_temp_with_else(39))"
   ]
  },
  {
   "cell_type": "code",
   "execution_count": 21,
   "id": "bc935998",
   "metadata": {},
   "outputs": [],
   "source": [
    "#if - elif - else"
   ]
  },
  {
   "cell_type": "code",
   "execution_count": 24,
   "id": "8a59666c",
   "metadata": {},
   "outputs": [],
   "source": [
    "def eval_temp_with_elif(temp):\n",
    "    if temp > 38:\n",
    "        message = \"Fever!\"\n",
    "    elif temp > 35:\n",
    "        message = \"Normal temperature.\"\n",
    "    else:\n",
    "        message = \"Low temperature.\"\n",
    "    return message"
   ]
  },
  {
   "cell_type": "code",
   "execution_count": 25,
   "id": "0217ba0c",
   "metadata": {},
   "outputs": [
    {
     "name": "stdout",
     "output_type": "stream",
     "text": [
      "Low temperature.\n"
     ]
    }
   ],
   "source": [
    "print(eval_temp_with_elif(34))"
   ]
  },
  {
   "cell_type": "code",
   "execution_count": 26,
   "id": "ae672202",
   "metadata": {},
   "outputs": [
    {
     "name": "stdout",
     "output_type": "stream",
     "text": [
      "Fever!\n"
     ]
    }
   ],
   "source": [
    "print(eval_temp_with_elif(39))"
   ]
  },
  {
   "cell_type": "code",
   "execution_count": 27,
   "id": "4a9b192b",
   "metadata": {},
   "outputs": [
    {
     "name": "stdout",
     "output_type": "stream",
     "text": [
      "Normal temperature.\n"
     ]
    }
   ],
   "source": [
    "print(eval_temp_with_elif(37))"
   ]
  },
  {
   "cell_type": "code",
   "execution_count": null,
   "id": "28419da6",
   "metadata": {},
   "outputs": [],
   "source": [
    "\n"
   ]
  },
  {
   "cell_type": "code",
   "execution_count": 30,
   "id": "8c72e3ce",
   "metadata": {},
   "outputs": [],
   "source": [
    "#tax calculator"
   ]
  },
  {
   "cell_type": "code",
   "execution_count": 31,
   "id": "36aa0a80",
   "metadata": {},
   "outputs": [],
   "source": [
    "def get_taxes(earnings):\n",
    "    if earnings < 12000:\n",
    "        tax_owed = .25 * earnings\n",
    "    else :\n",
    "        tax_owed = .30 *earnings\n",
    "    return tax_owed"
   ]
  },
  {
   "cell_type": "code",
   "execution_count": 32,
   "id": "4b33dddb",
   "metadata": {},
   "outputs": [
    {
     "name": "stdout",
     "output_type": "stream",
     "text": [
      "4500.0\n",
      "2750.0\n"
     ]
    }
   ],
   "source": [
    "faizan_tax = get_taxes(15000)\n",
    "shaizan_tax = get_taxes(11000)\n",
    "\n",
    "print(faizan_tax)\n",
    "print(shaizan_tax)"
   ]
  },
  {
   "cell_type": "code",
   "execution_count": 33,
   "id": "fc34402b",
   "metadata": {},
   "outputs": [
    {
     "name": "stdout",
     "output_type": "stream",
     "text": [
      "4500.0\n"
     ]
    }
   ],
   "source": [
    "x= 15000 * .30\n",
    "print(x)"
   ]
  },
  {
   "cell_type": "code",
   "execution_count": 34,
   "id": "d566b24b",
   "metadata": {},
   "outputs": [],
   "source": [
    "#multiple elif"
   ]
  },
  {
   "cell_type": "code",
   "execution_count": 35,
   "id": "8754a46b",
   "metadata": {},
   "outputs": [],
   "source": [
    "def get_dose(weight):\n",
    "    # Dosage is 1.25 ml for anyone under 5.2 kg\n",
    "    if weight < 5.2:\n",
    "        dose = 1.25\n",
    "    elif weight < 7.9:\n",
    "        dose = 2.5\n",
    "    elif weight < 10.4:\n",
    "        dose = 3.75\n",
    "    elif weight < 15.9:\n",
    "        dose = 5\n",
    "    elif weight < 21.2:\n",
    "        dose = 7.5\n",
    "    # Dosage is 10 ml for anyone 21.2 kg or over\n",
    "    else:\n",
    "        dose = 10\n",
    "    return dose"
   ]
  },
  {
   "cell_type": "code",
   "execution_count": 36,
   "id": "452bdcdb",
   "metadata": {},
   "outputs": [
    {
     "name": "stdout",
     "output_type": "stream",
     "text": [
      "10\n"
     ]
    }
   ],
   "source": [
    "print(get_dose(22))"
   ]
  },
  {
   "cell_type": "code",
   "execution_count": 37,
   "id": "59f33854",
   "metadata": {},
   "outputs": [
    {
     "name": "stdout",
     "output_type": "stream",
     "text": [
      "1.25\n"
     ]
    }
   ],
   "source": [
    "print(get_dose(5))"
   ]
  },
  {
   "cell_type": "code",
   "execution_count": null,
   "id": "bfe30611",
   "metadata": {},
   "outputs": [],
   "source": []
  }
 ],
 "metadata": {
  "kernelspec": {
   "display_name": "Python 3 (ipykernel)",
   "language": "python",
   "name": "python3"
  },
  "language_info": {
   "codemirror_mode": {
    "name": "ipython",
    "version": 3
   },
   "file_extension": ".py",
   "mimetype": "text/x-python",
   "name": "python",
   "nbconvert_exporter": "python",
   "pygments_lexer": "ipython3",
   "version": "3.9.7"
  }
 },
 "nbformat": 4,
 "nbformat_minor": 5
}
