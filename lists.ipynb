{
 "cells": [
  {
   "cell_type": "code",
   "execution_count": 1,
   "id": "fef8055e",
   "metadata": {},
   "outputs": [
    {
     "name": "stdout",
     "output_type": "stream",
     "text": [
      "<class 'str'>\n",
      "pink primrose,hard-leaved pocket orchid,canterbury bells,sweet pea,english marigold,tiger lily,moon orchid,bird of paradise,monkshood,globe thistle\n"
     ]
    }
   ],
   "source": [
    "flowers = \"pink primrose,hard-leaved pocket orchid,canterbury bells,sweet pea,english marigold,tiger lily,moon orchid,bird of paradise,monkshood,globe thistle\"\n",
    "\n",
    "print(type(flowers))\n",
    "print(flowers)"
   ]
  },
  {
   "cell_type": "code",
   "execution_count": 2,
   "id": "7505a930",
   "metadata": {},
   "outputs": [],
   "source": [
    "#lists"
   ]
  },
  {
   "cell_type": "code",
   "execution_count": 3,
   "id": "c62da58c",
   "metadata": {},
   "outputs": [
    {
     "name": "stdout",
     "output_type": "stream",
     "text": [
      "<class 'list'>\n",
      "['pink primrose', 'hard-leaved pocket orchid', 'canterbury bells', 'sweet pea', 'english marigold', 'tiger lily', 'moon orchid', 'bird of paradise', 'monkshood', 'globe thistle']\n"
     ]
    }
   ],
   "source": [
    "\n",
    "\n",
    "flowers_list = [\"pink primrose\", \"hard-leaved pocket orchid\", \"canterbury bells\", \"sweet pea\", \"english marigold\", \"tiger lily\", \"moon orchid\", \"bird of paradise\", \"monkshood\", \"globe thistle\"]\n",
    "\n",
    "print(type(flowers_list))\n",
    "print(flowers_list)\n",
    "\n"
   ]
  },
  {
   "cell_type": "code",
   "execution_count": 4,
   "id": "a8b2f127",
   "metadata": {},
   "outputs": [
    {
     "name": "stdout",
     "output_type": "stream",
     "text": [
      "10\n"
     ]
    }
   ],
   "source": [
    "print(len(flowers_list))"
   ]
  },
  {
   "cell_type": "code",
   "execution_count": 6,
   "id": "7bbab221",
   "metadata": {},
   "outputs": [
    {
     "name": "stdout",
     "output_type": "stream",
     "text": [
      "first entry: pink primrose\n",
      "second entry: hard-leaved pocket orchid\n",
      "last entry: globe thistle\n"
     ]
    }
   ],
   "source": [
    "print(\"first entry:\", flowers_list[0])\n",
    "print('second entry:', flowers_list[1])\n",
    "#last entry\n",
    "\n",
    "print(\"last entry:\", flowers_list[-1])"
   ]
  },
  {
   "cell_type": "code",
   "execution_count": 7,
   "id": "de7fe7f1",
   "metadata": {},
   "outputs": [
    {
     "name": "stdout",
     "output_type": "stream",
     "text": [
      "First three entries: ['pink primrose', 'hard-leaved pocket orchid', 'canterbury bells']\n",
      "Final two entries: ['monkshood', 'globe thistle']\n"
     ]
    }
   ],
   "source": [
    "print(\"First three entries:\", flowers_list[:3])\n",
    "print(\"Final two entries:\", flowers_list[-2:])"
   ]
  },
  {
   "cell_type": "code",
   "execution_count": null,
   "id": "bd80b89e",
   "metadata": {},
   "outputs": [],
   "source": [
    "#removing items from the list"
   ]
  },
  {
   "cell_type": "code",
   "execution_count": 12,
   "id": "239d34af",
   "metadata": {},
   "outputs": [
    {
     "name": "stdout",
     "output_type": "stream",
     "text": [
      "['pink primrose', 'hard-leaved pocket orchid', 'canterbury bells', 'sweet pea', 'english marigold', 'tiger lily', 'moon orchid', 'bird of paradise']\n"
     ]
    }
   ],
   "source": [
    "flowers_list.remove(\"monkshood\")\n",
    "print(flowers_list)"
   ]
  },
  {
   "cell_type": "code",
   "execution_count": null,
   "id": "b1f1325f",
   "metadata": {},
   "outputs": [],
   "source": [
    "#adding items to list"
   ]
  },
  {
   "cell_type": "code",
   "execution_count": 13,
   "id": "b47113fb",
   "metadata": {},
   "outputs": [
    {
     "name": "stdout",
     "output_type": "stream",
     "text": [
      "['pink primrose', 'hard-leaved pocket orchid', 'canterbury bells', 'sweet pea', 'english marigold', 'tiger lily', 'moon orchid', 'bird of paradise', 'snapdragon']\n"
     ]
    }
   ],
   "source": [
    "flowers_list.append(\"snapdragon\")\n",
    "print(flowers_list)"
   ]
  },
  {
   "cell_type": "code",
   "execution_count": null,
   "id": "8842b8be",
   "metadata": {},
   "outputs": [],
   "source": []
  }
 ],
 "metadata": {
  "kernelspec": {
   "display_name": "Python 3 (ipykernel)",
   "language": "python",
   "name": "python3"
  },
  "language_info": {
   "codemirror_mode": {
    "name": "ipython",
    "version": 3
   },
   "file_extension": ".py",
   "mimetype": "text/x-python",
   "name": "python",
   "nbconvert_exporter": "python",
   "pygments_lexer": "ipython3",
   "version": "3.9.7"
  }
 },
 "nbformat": 4,
 "nbformat_minor": 5
}
