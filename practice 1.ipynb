{
 "cells": [
  {
   "cell_type": "code",
   "execution_count": 3,
   "id": "d53633bd",
   "metadata": {},
   "outputs": [],
   "source": [
    "#practice"
   ]
  },
  {
   "cell_type": "code",
   "execution_count": 5,
   "id": "fd17b01e",
   "metadata": {},
   "outputs": [
    {
     "name": "stdout",
     "output_type": "stream",
     "text": [
      "1.5\n",
      "7.0685775\n"
     ]
    }
   ],
   "source": [
    "#1\n",
    "pi = 3.14159 # approximate\n",
    "diameter = 3\n",
    "\n",
    "# Create a variable called 'radius' equal to half the diameter\n",
    "radius = diameter/2\n",
    "\n",
    "# Create a variable called 'area', using the formula for the area of a circle: pi times the radius square\n",
    "area = pi * radius **2\n",
    "\n",
    "print(radius)\n",
    "print(area)"
   ]
  },
  {
   "cell_type": "code",
   "execution_count": null,
   "id": "6546518f",
   "metadata": {},
   "outputs": [],
   "source": []
  },
  {
   "cell_type": "code",
   "execution_count": 7,
   "id": "9dc13436",
   "metadata": {},
   "outputs": [
    {
     "name": "stdout",
     "output_type": "stream",
     "text": [
      "[3, 2, 1]\n",
      "[1, 2, 3]\n"
     ]
    }
   ],
   "source": [
    "#2..........swapping a items to b\n",
    "a = [1, 2, 3]\n",
    "b = [3, 2, 1]\n",
    "######################################################################\n",
    "\n",
    "# Your code goes here. Swap the values to which a and b refer.\n",
    "# If you get stuck, you can always uncomment one or both of the lines in\n",
    "# the next cell for a hint, or to peek at the solution.\n",
    "c = a\n",
    "a = b\n",
    "b = c\n",
    "\n",
    "print(a)\n",
    "print(b)"
   ]
  },
  {
   "cell_type": "code",
   "execution_count": null,
   "id": "edb41622",
   "metadata": {},
   "outputs": [],
   "source": []
  },
  {
   "cell_type": "code",
   "execution_count": 8,
   "id": "f8f10a66",
   "metadata": {},
   "outputs": [
    {
     "data": {
      "text/plain": [
       "1"
      ]
     },
     "execution_count": 8,
     "metadata": {},
     "output_type": "execute_result"
    }
   ],
   "source": [
    "#3.....Add parentheses to the following expression so that it evaluates to 1.\n",
    "#Q.) Given 5 - 3 // 2\n",
    "#ans.\n",
    "(5 - 3) // 2\n",
    "# Following its default \"BEDMAS\"-like rules for order of operations, Python will first divide 3 by 2,\n",
    "#then subtract the result from 5.\n",
    "#You need to add parentheses to force it to perform the subtraction first."
   ]
  },
  {
   "cell_type": "code",
   "execution_count": null,
   "id": "9653cf01",
   "metadata": {},
   "outputs": [],
   "source": []
  },
  {
   "cell_type": "code",
   "execution_count": 9,
   "id": "2d419df1",
   "metadata": {},
   "outputs": [
    {
     "data": {
      "text/plain": [
       "0"
      ]
     },
     "execution_count": 9,
     "metadata": {},
     "output_type": "execute_result"
    }
   ],
   "source": [
    "#4.......Add parentheses to the following expression so that it evaluates to 0.\n",
    "#Q.) Given 8 - 3 * 2 - 1 + 1\n",
    "#ans.\n",
    "(8 - 3) *( 2 - (1 + 1))"
   ]
  },
  {
   "cell_type": "code",
   "execution_count": null,
   "id": "e15688f4",
   "metadata": {},
   "outputs": [],
   "source": []
  },
  {
   "cell_type": "code",
   "execution_count": 10,
   "id": "39bd7495",
   "metadata": {},
   "outputs": [],
   "source": [
    "#5......\n",
    "#Alice, Bob and Carol have agreed to pool their Halloween candy and split it evenly among themselves.\n",
    "#For the sake of their friendship, any candies left over will be smashed.\n",
    "#For example, if they collectively bring home 91 candies, they'll take 30 each and smash 1.\n",
    "\n",
    "#Write an arithmetic expression below to calculate how many candies they must smash for a given haul.\n",
    "\n",
    "# Variables representing the number of candies collected by alice, bob, and carol\n",
    "alice_candies = 121\n",
    "bob_candies = 77\n",
    "carol_candies = 109\n",
    "\n",
    "# Your code goes here! Replace the right-hand side of this assignment with an expression\n",
    "# involving alice_candies, bob_candies, and carol_candies\n",
    "(alice_candies + bob_candies + carol_candies) % 3\n",
    "    \n",
    "to_smash = -1"
   ]
  },
  {
   "cell_type": "code",
   "execution_count": null,
   "id": "3b89d1da",
   "metadata": {},
   "outputs": [],
   "source": []
  }
 ],
 "metadata": {
  "kernelspec": {
   "display_name": "Python 3 (ipykernel)",
   "language": "python",
   "name": "python3"
  },
  "language_info": {
   "codemirror_mode": {
    "name": "ipython",
    "version": 3
   },
   "file_extension": ".py",
   "mimetype": "text/x-python",
   "name": "python",
   "nbconvert_exporter": "python",
   "pygments_lexer": "ipython3",
   "version": "3.9.7"
  }
 },
 "nbformat": 4,
 "nbformat_minor": 5
}
